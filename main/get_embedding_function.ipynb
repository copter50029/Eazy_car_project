{
 "cells": [
  {
   "cell_type": "markdown",
   "id": "e6f48399",
   "metadata": {},
   "source": [
    "# Ingesting PDF"
   ]
  },
  {
   "cell_type": "code",
   "execution_count": 1,
   "id": "036b3f2c",
   "metadata": {},
   "outputs": [
    {
     "name": "stdout",
     "output_type": "stream",
     "text": [
      "Note: you may need to restart the kernel to use updated packages.\n"
     ]
    },
    {
     "name": "stderr",
     "output_type": "stream",
     "text": [
      "\n",
      "[notice] A new release of pip available: 22.2.1 -> 25.2\n",
      "[notice] To update, run: python.exe -m pip install --upgrade pip\n"
     ]
    },
    {
     "name": "stdout",
     "output_type": "stream",
     "text": [
      "Note: you may need to restart the kernel to use updated packages.\n"
     ]
    },
    {
     "name": "stderr",
     "output_type": "stream",
     "text": [
      "\n",
      "[notice] A new release of pip available: 22.2.1 -> 25.2\n",
      "[notice] To update, run: python.exe -m pip install --upgrade pip\n"
     ]
    }
   ],
   "source": [
    "%pip install --q unstructured langchain langchain-community\n",
    "%pip install --q \"unstructured[all-docs]\" ipywidgets tqdm"
   ]
  },
  {
   "cell_type": "code",
   "execution_count": 5,
   "id": "5d2fa582",
   "metadata": {},
   "outputs": [],
   "source": [
    "from langchain_community.document_loaders import UnstructuredPDFLoader\n",
    "from langchain_community.document_loaders import UnstructuredExcelLoader\n"
   ]
  },
  {
   "cell_type": "code",
   "execution_count": 7,
   "id": "684225ac",
   "metadata": {},
   "outputs": [
    {
     "name": "stderr",
     "output_type": "stream",
     "text": [
      "No features in text.\n",
      "No features in text.\n"
     ]
    },
    {
     "name": "stdout",
     "output_type": "stream",
     "text": [
      "Warning: No languages specified, defaulting to English.\n",
      "Product Knowledge for AI Chatbot\n",
      "\n",
      "What is Eazy Car?\n",
      "\n",
      "Eazy Car is a new-style car subscription service offering brand-new cars with flexible terms.\n",
      "\n",
      "Available for both individuals and companies\n",
      "\n",
      "• Choose any brand and model Pay one fixed monthly rate • All costs are covered throughout the contract •\n",
      "\n",
      "Eazy Car Offers 3 Service Types:\n",
      "\n",
      "1. Long-Term New Car Subscription (2–6 years)\n",
      "\n",
      "•\n",
      "\n",
      "Brand-new cars only Annual contract-based rental\n",
      "\n",
      "2. Monthly Car Rental\n",
      "\n",
      "Flexible term from 1 to 12 months (or annual rental) • • Used vehicles (white plates) from model years 2020–2024\n",
      "\n",
      "3. Short-Term New Car Subscription (6, 12, or 18 months)\n",
      "\n",
      "\n",
      "\n",
      "Brand-new cars only\n",
      "\n",
      "How to Apply for Eazy Car\n",
      "\n",
      "1. Choose your preferred service and vehicle 2. Apply online or contact our team 3. Receive credit approval 4. Make payment and receive your car\n",
      "\n",
      "Required Documents (May Vary by Package)\n",
      "\n",
      "National ID Card\n",
      "\n",
      "Driver’s License\n",
      "\n",
      "Can I Own the Car?\n",
      "\n",
      "Yes, you can choose to purchase the vehicle during or at the end of the contract. The purchase price will follow Eazy Car’s terms and conditions.\n",
      "\n",
      "Payment Methods\n",
      "\n",
      "You can choose from 3 payment options:\n",
      "\n",
      "1. Automatic debit from Kasikorn Bank or SCB 2. Credit card 3. Debit card\n",
      "\n",
      "Do I Need to Pay Anything Upfront?\n",
      "\n",
      "Yes, the initial payment includes:\n",
      "\n",
      "1. Security deposit equivalent to 2 months – applied to the last 2 months of the contract (subject to terms) 2. First month's rental fee – paid at the start of the contract\n",
      "\n",
      "Can I Deduct the Rental Fee for Tax Purposes?\n",
      "\n",
      "•\n",
      "\n",
      "For companies: Yes, the full amount can be deducted. For individuals: Not deductible, unless registered for VAT.\n",
      "\n",
      "What If I Want to Cancel Early?\n",
      "\n",
      "You may terminate the contract early with a cancellation fee of 40% of the remaining contract value, as stated in the agreement.\n",
      "\n",
      "What to Do in Case of an Accident?\n",
      "\n",
      "We offer 24/7 assistance. Please contact our Call Center at 091-725-6000\n",
      "\n",
      "What About Maintenance or Scheduled Servicing?\n",
      "\n",
      "Contact our Call Center 24/7 to schedule maintenance or report issues. Hotline: 091-725-6000\n",
      "\n",
      "What Accessories Are Included?\n",
      "\n",
      "Each car comes with:\n",
      "\n",
      "Window tint film • Carpet mats • • • Rubber floor mats License plate frame Full tank of fuel\n",
      "\n",
      "Can I Install Accessories?\n",
      "\n",
      "Yes, you may install additional accessories, but the vehicle must be returned in its original condition.\n",
      "\n",
      "Insurance / Road Tax / Compulsory Motor Insurance (CMI)\n",
      "\n",
      "No need to worry—Eazy Car handles all insurance, road tax, and CMI throughout the contract period.\n",
      "\n",
      "Can I Rent a Car If I Have a Credit Bureau Record or Blacklist Status?\n",
      "\n",
      "Yes, you can rent on a monthly basis even if you have a credit record or are blacklisted.\n",
      "\n",
      "Can I Use the Car for App-Based Driving (e.g., Grab, Robinhood)?\n",
      "\n",
      "Yes, you may use our cars for ride-hailing or delivery apps.\n",
      "\n",
      "THAI VERSION\n",
      "\n",
      "Eazy Car คืออะไร Eazy Car คือบริการ Car subscription เป็นการออกรถป้ายแดงรูปแบบใหม่ -ออกได้ทั -เลือกรถได้ทุกรุ (cid:129)ห้อ -จ่ายรายเดือนราคาเดียว -ดูแลทุกค่าใช้จ่ายตลอดสัญญา kงหมด n ประเภท คือ\n",
      "\n",
      "zงบุคคลธรรมดาและในนามบริษัท\n",
      "\n",
      "บริการของ Eazy Car มีทั 1. ออกรถป้ายแดง ระยะยาว (cid:136) - (cid:137) ปี (เป็นการเช่ารถแบบรายปี) zน) - รถใหม่ป้ายแดง (มือ (cid:138) เท่านั\n",
      "\n",
      "2. เช่าใช้รถรายเดือน - เริ - รถป้ายขาว ปี (cid:136)(cid:140)(cid:136)(cid:140)-(cid:136)(cid:140)(cid:136)(cid:141)\n",
      "\n",
      "(cid:129)มต้น (cid:138)-(cid:138)(cid:136) เดือน (ระบุเดือนได้ หรือเช่าเป็นรายปีได้)\n",
      "\n",
      "3. ออกป้ายแดง ระยะสัญญา (cid:137), (cid:138)(cid:136) และ (cid:138)(cid:142) เดือน - รถใหม่ป้ายแดง (มือ (cid:138) เท่านั zน)\n",
      "\n",
      "ขั 1.เลือกบริการและรถ (cid:129) 2.สมัครออนไลน์หรือติดต่อเจ้าหน้าที 3.รับผลอนุมัติเครดิต 4.จ่ายค่าบริการและรับรถ ่กับแพ็กเกจที\n",
      "\n",
      "ขั 1.เลือกบริการและรถ (cid:129) 2.สมัครออนไลน์หรือติดต่อเจ้าหน้าที 3.รับผลอนุมัติเครดิต 4.จ่ายค่าบริการและรับรถ uใช้ขึ - เอกสารที -บัตรประชาชน (cid:129) -ใบขับขี\n",
      "\n",
      "kนตอนการสมัครบริการ Eazy Car\n",
      "\n",
      "uสมัคร เบื\n",
      "\n",
      "สามารถเป็นเจ้าของรถได้หรือไม่? ้ใช้บริการสามารถซื ผู\n",
      "\n",
      "zอรถยนต์ได้ในระหว่างสัญญาหรือเมื\n",
      "\n",
      "(cid:129)อสัญญาสิ\n",
      "\n",
      "zนสุดลง ราคาเป็นไปตามเงื\n",
      "\n",
      "ช่องทางการชําระเงิน? สามารถชําระได้ (cid:147) ช่องทาง : 1. หักผ่านบัญชีอัตโนมัติธนาคารกสิกรไทย หรือ ไทยพาณิชย์ 2. บัตรเครดิต 3. บัตรเดบิต\n",
      "\n",
      "(cid:129)อนไขที\n",
      "\n",
      "(cid:129)กําหนด\n",
      "\n",
      "ตอนออกรถต้องจ่ายล่วงหน้าไหม มีค่าอะไรบ้าง? 1. ค่ามัดจํา (cid:136) งวด ที 2. ชําระใช้บริการล่วงหน้า (cid:138) งวด (จ่าย beginning)\n",
      "\n",
      "(cid:129)ใช้นําไปหัก (cid:136) งวดสุดท้ายของสัญญา (เป็นไปตามเงื\n",
      "\n",
      "(cid:129)อนไขที\n",
      "\n",
      "(cid:129)กําหนด*)\n",
      "\n",
      "ค่าบริการสามารถนําไป หักภาษี ได้ไหม? กรณีบริษัท : สามารถนําค่าบริการให้หักได้เต็มจํานวน กรณีบุคคล : ไม่สามารถนําไปหักได้ ยกเว้นบุคคลที\n",
      "\n",
      "(cid:129)ได้จดทะเบียนภาษีมูลค่าเพิ\n",
      "\n",
      "(cid:129)ม\n",
      "\n",
      "ถ้าต้องการยกเลิกสัญญาก่อนครบกําหนดสัญญา? (cid:129)เหลือตามที สามารถทําได้ โดยมีค่าปรับ (cid:141)(cid:140)% ของค่างวดที\n",
      "\n",
      "(cid:129)ระบุไว้ในสัญญา\n",
      "\n",
      "เกิดอุบัติเหตุต้องทําอย่างไร? เรามี Call Center ตลอด (cid:136)(cid:141) ชั\n",
      "\n",
      "(cid:129)วโมง (ติดต่อ (cid:140)(cid:154)(cid:138)-(cid:155)(cid:136)(cid:156)-(cid:137)(cid:140)(cid:140)(cid:140) )\n",
      "\n",
      "ซ่อมรถหรือเช็คระยะต้องทําอย่างไร? ้ใช้บริการสามารถติดต่อ Call Center เพื ผู\n",
      "\n",
      "(cid:129)อนัดหมายเข้าเช็คระยะและแจ้งซ่อมได้ตลอด (cid:136)(cid:141) ชม. (ติดต่อ (cid:140)(cid:154)(cid:138)-(cid:155)(cid:136)(cid:156)-(cid:137)(cid:140)(cid:140)(cid:140) )\n",
      "\n",
      "อุปกรณ์มาตรฐานที ฟิล์มกรองแสง, พรมปูพื\n",
      "\n",
      "uจะได้เมื zน, ผ้ายางปูพื\n",
      "\n",
      "uอรับรถ?\n",
      "\n",
      "zน, กรอบป้ายทะเบียน และนํ\n",
      "\n",
      "zามันเต็มถัง\n",
      "\n",
      "การติดตั สามารถติดตั\n",
      "\n",
      "kงอุปกรณ์เสริม? zงได้ แต่รถต้องอยู\n",
      "\n",
      "่ในสภาพเดิม ณ วันส่งคืนรถ\n",
      "\n",
      "การประกันภัย / ภาษีรถยนต์ / พ.ร.บ.? ไม่ต้องกังวลเรื\n",
      "\n",
      "(cid:129)องค่าประกัน ภาษี พ.ร.บ. Eazy Car ดําเนินการและดูแลให้ตลอดอายุสัญญา\n",
      "\n",
      "ติดเครดิตบูโรหรือแบล็กลิสต์ ออกรถได้ไหม? หากติดเครดิตบูโรหรือแบล็กลิสต์ สามารถเช่ารายเดือนได้ครับ\n",
      "\n",
      "สามารถเช่า-หรือออกรถขับผ่านแอปได้ไหม? สามารถทําได้\n"
     ]
    }
   ],
   "source": [
    "pdf_path = \"data/EazyCar_Product_knowledge_for_AI_chatbot.pdf\"\n",
    "excel_path = \"data/Eazy Car_Package.xlsx\"\n",
    "\n",
    "pdf_loader = UnstructuredPDFLoader(pdf_path)\n",
    "excel_loader = UnstructuredExcelLoader(excel_path)\n",
    "\n",
    "pdf_docs = pdf_loader.load()\n",
    "excel_docs = excel_loader.load()\n",
    "\n",
    "docs = pdf_docs + excel_docs\n",
    "print(docs[0].page_content)"
   ]
  },
  {
   "cell_type": "markdown",
   "id": "25952ad3",
   "metadata": {},
   "source": [
    "# Vecter Embedding"
   ]
  },
  {
   "cell_type": "code",
   "execution_count": 2,
   "id": "c4e1ec13",
   "metadata": {},
   "outputs": [
    {
     "name": "stdout",
     "output_type": "stream",
     "text": [
      "NAME                     ID              SIZE      MODIFIED     \n",
      "deepseek-r1:8b           6995872bfe4c    5.2 GB    2 months ago    \n",
      "deepseek-r1:1.5b         e0979632db5a    1.1 GB    2 months ago    \n",
      "nomic-embed-text:v1.5    0a109f422b47    274 MB    2 months ago    \n"
     ]
    }
   ],
   "source": [
    "# !ollama pull nomic-embed-text:v1.5\n",
    "!ollama list\n",
    "# !pip install -q chromadb\n",
    "# !pip install -q langchain-text-splitters\n",
    "# !ollama pull deepseek-r1:1.5b"
   ]
  },
  {
   "cell_type": "code",
   "execution_count": 12,
   "id": "c2088285",
   "metadata": {},
   "outputs": [],
   "source": [
    "from langchain_community.embeddings import OllamaEmbeddings\n",
    "from langchain.vectorstores import Chroma\n",
    "from langchain.text_splitter import RecursiveCharacterTextSplitter\n",
    "# Split the documents into smaller chunks\n",
    "text_splitter = RecursiveCharacterTextSplitter(chunk_size=2000, chunk_overlap=200)\n",
    "chucks = text_splitter.split_documents(docs)"
   ]
  },
  {
   "cell_type": "code",
   "execution_count": 13,
   "id": "1c69dae7",
   "metadata": {},
   "outputs": [
    {
     "name": "stderr",
     "output_type": "stream",
     "text": [
      "OllamaEmbeddings: 100%|██████████| 15/15 [00:55<00:00,  3.69s/it]\n"
     ]
    }
   ],
   "source": [
    "#Add to vector database\n",
    "vector_db = Chroma.from_documents(\n",
    "    documents=chucks,\n",
    "    embedding=OllamaEmbeddings(model=\"nomic-embed-text:v1.5\",show_progress=True),\n",
    "    collection_name=\"Eazycar_db\"\n",
    ")"
   ]
  },
  {
   "cell_type": "markdown",
   "id": "4edb61fc",
   "metadata": {},
   "source": [
    "# Retrieval"
   ]
  },
  {
   "cell_type": "code",
   "execution_count": 14,
   "id": "dc3709c3",
   "metadata": {},
   "outputs": [],
   "source": [
    "from langchain.prompts import ChatPromptTemplate, PromptTemplate\n",
    "from langchain_core.output_parsers import StrOutputParser\n",
    "from langchain_community.chat_models import ChatOllama\n",
    "from langchain_core.runnables import RunnablePassthrough\n",
    "from langchain.retrievers.multi_query import MultiQueryRetriever"
   ]
  },
  {
   "cell_type": "code",
   "execution_count": 15,
   "id": "c0efed43",
   "metadata": {},
   "outputs": [
    {
     "name": "stderr",
     "output_type": "stream",
     "text": [
      "C:\\Users\\AVI03\\AppData\\Local\\Temp\\ipykernel_29392\\1972936892.py:2: LangChainDeprecationWarning: The class `ChatOllama` was deprecated in LangChain 0.3.1 and will be removed in 1.0.0. An updated version of the class exists in the :class:`~langchain-ollama package and should be used instead. To use it run `pip install -U :class:`~langchain-ollama` and import as `from :class:`~langchain_ollama import ChatOllama``.\n",
      "  llm = ChatOllama(model=local_model)\n"
     ]
    }
   ],
   "source": [
    "local_model = \"deepseek-r1:1.5b\"\n",
    "llm = ChatOllama(model=local_model)\n",
    "QUERRY_PROMPT = PromptTemplate(\n",
    "    input_variables=[\"question\"],\n",
    "    template=\"\"\"You are an AI language model assistant. Your task is to generate five\n",
    "    different versions of the given user question to retrieve relevant documents from\n",
    "    a vector database. By generating multiple perspectives on the user question, your\n",
    "    goal is to help the user overcome some of the limitations of the distance-based\n",
    "    similarity search. Provide these alternative questions separated by newlines.\n",
    "    Original question: {question}\n",
    "    \"\"\"\n",
    ")"
   ]
  },
  {
   "cell_type": "code",
   "execution_count": 16,
   "id": "c48ebca0",
   "metadata": {},
   "outputs": [],
   "source": [
    "retriever = MultiQueryRetriever.from_llm(\n",
    "    vector_db.as_retriever(),\n",
    "    llm,\n",
    "    prompt=QUERRY_PROMPT\n",
    ")\n",
    "\n",
    "#RAG prompt\n",
    "template = \"\"\"Answer the question based ONLY on the following context:\n",
    "{context}\n",
    "Question: {question}\n",
    "\"\"\" \n",
    "prompt = ChatPromptTemplate.from_template(template)"
   ]
  },
  {
   "cell_type": "code",
   "execution_count": 17,
   "id": "71734334",
   "metadata": {},
   "outputs": [],
   "source": [
    "chain = (\n",
    "    {\"context\": retriever, \"question\": RunnablePassthrough()}\n",
    "    | prompt\n",
    "    | llm\n",
    "    | StrOutputParser()\n",
    ")"
   ]
  },
  {
   "cell_type": "code",
   "execution_count": null,
   "id": "a2288e3e",
   "metadata": {},
   "outputs": [
    {
     "name": "stderr",
     "output_type": "stream",
     "text": [
      "OllamaEmbeddings: 100%|██████████| 1/1 [00:02<00:00,  2.05s/it]\n",
      "OllamaEmbeddings: 100%|██████████| 1/1 [00:02<00:00,  2.20s/it]\n",
      "OllamaEmbeddings: 100%|██████████| 1/1 [00:02<00:00,  2.22s/it]\n",
      "OllamaEmbeddings: 100%|██████████| 1/1 [00:02<00:00,  2.16s/it]\n",
      "OllamaEmbeddings: 100%|██████████| 1/1 [00:02<00:00,  2.15s/it]\n",
      "OllamaEmbeddings: 100%|██████████| 1/1 [00:02<00:00,  2.13s/it]\n",
      "OllamaEmbeddings: 100%|██████████| 1/1 [00:02<00:00,  2.20s/it]\n",
      "OllamaEmbeddings: 100%|██████████| 1/1 [00:02<00:00,  2.37s/it]\n",
      "OllamaEmbeddings: 100%|██████████| 1/1 [00:02<00:00,  2.04s/it]\n",
      "OllamaEmbeddings: 100%|██████████| 1/1 [00:02<00:00,  2.14s/it]\n",
      "OllamaEmbeddings: 100%|██████████| 1/1 [00:02<00:00,  2.24s/it]\n",
      "OllamaEmbeddings: 100%|██████████| 1/1 [00:02<00:00,  2.12s/it]\n",
      "OllamaEmbeddings: 100%|██████████| 1/1 [00:02<00:00,  2.29s/it]\n",
      "OllamaEmbeddings: 100%|██████████| 1/1 [00:02<00:00,  2.13s/it]\n"
     ]
    },
    {
     "data": {
      "text/plain": [
       "'<think>\\nFirst, I need to understand the main question: \"Why EazyCar is better than another service?\" I\\'ll compare it with two other services based on the information provided.\\n\\nLooking at EazyCar\\'s page content:\\n\\n1. **Insurance and Tax Handling**: EazyCar handles all insurance (CMI), road tax, and CMI throughout the contract.\\n   - Other services might require separate handling of these aspects.\\n\\n2. **Vehicle Ownership**: \\n   - EazyCar offers 3 types of vehicles: general cars (500 THB rental + fuel), luxury cars (9800 THB rental + fuel), and high-end cars (14700 THB rental + fuel).\\n   - Other services are not detailed here, so it\\'s challenging to compare directly. However, if we assume the luxury and high-end options, EazyCar is more expensive.\\n\\n3. **Support and Features**:\\n   - EazyCar supports road maintenance, insurance, and has a 40% penalty for early termination plus deposit forfeited.\\n   - Other services may not cover these aspects as comprehensively.\\n\\nConsidering all these points, EazyCar offers comprehensive support and coverage compared to other services like Bank Transfer and Auto Debit, which have more detailed requirements but are less comprehensive in terms of vehicle options and insurance handling. Thus, EazyCar seems better due to its broader offerings and superior customer service.\\n</think>\\n\\nEazyCar stands out as a superior choice for your needs and circumstances. Here\\'s why it\\'s \"better than another service\":\\n\\n1. **Comprehensive Coverage**:\\n   - **Insurance and Tax Handling**: EazyCar handles all necessary insurance (CMI), road tax, and CMI throughout the contract period, ensuring you don\\'t face any financial or legal issues.\\n   - **Vehicle Ownership Options**: It offers three types of vehicles—general cars (500 THB rental + fuel), luxury cars (9800 THB rental + fuel), and high-end cars (14700 THB rental + fuel). Other services may not provide such a wide range or are more limited in their offerings.\\n\\n2. **Support and Features**:\\n   - EazyCar provides enhanced support, including road maintenance, insurance, and penalties for early termination with deposit forfeited.\\n   - It is supported by professional customer service, which can alleviate some concerns you might have about the company\\'s reliability.\\n\\n3. **Cost-Effectiveness**:\\n   - The pricing structure is more favorable compared to other services. EazyCar charges lower prices for luxury and high-end vehicles, making it more cost-effective for those prioritizing premium features.\\n\\n4. **Customer Satisfaction**:\\n   - While detailed service descriptions are present on other pages, EazyCar\\'s comprehensive coverage of vehicle options, support, and maintenance ensures a superior experience that may surpass the offerings of traditional services.\\n\\n### Conclusion:\\n\\nEazyCar is \"better\" than another service due to its broader range of vehicle options, robust insurance handling, enhanced customer support, and favorable pricing structure. These factors make it a more cost-effective, reliable, and comprehensive choice for your needs compared to other services.'"
      ]
     },
     "execution_count": 18,
     "metadata": {},
     "output_type": "execute_result"
    }
   ],
   "source": [
    "# chain.invoke(input(\"\"))\n",
    "print(\"Ask a question about Eazy Car products: \")\n",
    "answer = chain.invoke(input(\"\"))\n",
    "print(\"answer:\", answer)"
   ]
  }
 ],
 "metadata": {
  "kernelspec": {
   "display_name": ".venv",
   "language": "python",
   "name": "python3"
  },
  "language_info": {
   "codemirror_mode": {
    "name": "ipython",
    "version": 3
   },
   "file_extension": ".py",
   "mimetype": "text/x-python",
   "name": "python",
   "nbconvert_exporter": "python",
   "pygments_lexer": "ipython3",
   "version": "3.10.6"
  }
 },
 "nbformat": 4,
 "nbformat_minor": 5
}
